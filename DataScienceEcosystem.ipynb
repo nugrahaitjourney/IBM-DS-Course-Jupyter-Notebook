{
 "cells": [
  {
   "cell_type": "markdown",
   "id": "8708868f-b681-44e6-8a58-f2028f7979da",
   "metadata": {},
   "source": [
    "# Data Science Tools and Ecosystem"
   ]
  },
  {
   "cell_type": "markdown",
   "id": "27bbb241-18ed-498e-b5e2-8d1f1f0077ef",
   "metadata": {},
   "source": [
    "In this notebook, Data Science Tools and Ecosystem are summarized."
   ]
  },
  {
   "cell_type": "markdown",
   "id": "29f24961-2613-4c72-9e32-58061f14e14f",
   "metadata": {},
   "source": [
    "**Objectives:**\n",
    "- Some of Popular languages for Data Science\n",
    "- Some of commonly used libraries used by Data Scientist\n",
    "- Data Science Tools\n",
    "- Simple Arithmetic expression in Python\n",
    "- Convert Minutes to Hours with Python "
   ]
  },
  {
   "cell_type": "markdown",
   "id": "9f342a01-84d9-4102-bca4-c7a6f42fe350",
   "metadata": {},
   "source": [
    "## Author\n",
    "## Fajar Hari Nugraha"
   ]
  },
  {
   "cell_type": "markdown",
   "id": "e749f3ed-15be-44e7-a64b-b387aeb57fa7",
   "metadata": {},
   "source": [
    "Some of popular languages that Data Science use are:\n",
    "1. Python\n",
    "2. R\n",
    "3. SQL"
   ]
  },
  {
   "cell_type": "markdown",
   "id": "27ca6ce0-372b-4dc1-adf1-f91c8add6083",
   "metadata": {},
   "source": [
    "Some of commonly used libraries used by Data Scientist include:"
   ]
  },
  {
   "cell_type": "markdown",
   "id": "28d48fd2-df50-4eef-9262-4087dd8446c3",
   "metadata": {},
   "source": [
    "1. TensorFlow\n",
    "2. Numpy\n",
    "3. Pandas"
   ]
  },
  {
   "cell_type": "markdown",
   "id": "d833a9e7-a033-4d3b-b3a1-3369280b42e6",
   "metadata": {},
   "source": [
    "| Data Science Tools |\n",
    "| ------------------ |\n",
    "| IBM Watson Studio Desktop |\n",
    "| Apache Spark |\n",
    "| Scikit-learn |    "
   ]
  },
  {
   "cell_type": "markdown",
   "id": "dcabe27b-ce46-4324-83ea-e57d8105d4d2",
   "metadata": {},
   "source": [
    "### Below are a few examples of evaluaring arithmetic expressions in Python"
   ]
  },
  {
   "cell_type": "code",
   "execution_count": 10,
   "id": "42980c8a-926d-429d-ba66-8df536652ac1",
   "metadata": {},
   "outputs": [
    {
     "data": {
      "text/plain": [
       "17"
      ]
     },
     "execution_count": 10,
     "metadata": {},
     "output_type": "execute_result"
    }
   ],
   "source": [
    "(3*4)+5\n",
    "\n",
    "# This is a simple arithmetic expression to multiply then add integers."
   ]
  },
  {
   "cell_type": "code",
   "execution_count": 37,
   "id": "c67b8eb0-57c0-462b-a578-9957eb4abb65",
   "metadata": {},
   "outputs": [
    {
     "name": "stdout",
     "output_type": "stream",
     "text": [
      "200 minutes is same as 3.33 hours\n"
     ]
    }
   ],
   "source": [
    "min_to_hr = 200/60\n",
    "result = round(min_to_hr, 2)\n",
    "print(\"200 minutes is same as \" + str(result) + \" hours\")\n",
    "\n",
    "\n",
    "# This will convert 200 minutes to hours by diving by 60."
   ]
  }
 ],
 "metadata": {
  "kernelspec": {
   "display_name": "Python [conda env:base] *",
   "language": "python",
   "name": "conda-base-py"
  },
  "language_info": {
   "codemirror_mode": {
    "name": "ipython",
    "version": 3
   },
   "file_extension": ".py",
   "mimetype": "text/x-python",
   "name": "python",
   "nbconvert_exporter": "python",
   "pygments_lexer": "ipython3",
   "version": "3.12.2"
  }
 },
 "nbformat": 4,
 "nbformat_minor": 5
}
